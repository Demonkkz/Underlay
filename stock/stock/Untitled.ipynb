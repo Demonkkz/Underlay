{
 "cells": [
  {
   "cell_type": "code",
   "execution_count": 11,
   "metadata": {},
   "outputs": [
    {
     "data": {
      "image/png": "[encoded data removed]",
      "text/plain": [
       "<matplotlib.figure.Figure at 0x10c8ec7f0>"
      ]
     },
     "metadata": {},
     "output_type": "display_data"
    }
   ],
   "source": [
    "import matplotlib.pyplot as plt\n",
    "import pandas as pd\n",
    "import numpy as np\n",
    "import matplotlib.dates as mdates\n",
    "import matplotlib.ticker as ticker\n",
    "from matplotlib.ticker import Formatter\n",
    "from mpl_finance import candlestick_ochl\n",
    "\n",
    "\n",
    "def plot_k_line(stockCode, sliceSize):\n",
    "    slice_size = slice(sliceSize)\n",
    "    #1.数据预处理\n",
    "    #读取数据\n",
    "    data = pd.read_csv((\"stocks/\" + stockCode + \".csv\"))\n",
    "\n",
    "    #将时间数据转换为pandas的时间格式\n",
    "    data[\"date\"] = pd.to_datetime(data[\"date\"], infer_datetime_format=True, yearfirst=True)\n",
    "\n",
    "    #将时间数据转换为matplotlib的时间格式\n",
    "    data['date'] = data['date'].apply(lambda d: mdates.date2num(d.to_pydatetime()))\n",
    "    data['date'] = np.float64(range(int(data['date'][0].item()), int(data['date'][0].item()) + len(data)))\n",
    "    #将数据框转换为元组\n",
    "    tuples = [tuple(x) for x in data[['date', 'open', 'close', 'high', 'low']].values][slice_size]\n",
    "\n",
    "    #2.图像设置\n",
    "    #获得fig和ax对象\n",
    "    fig, ax = plt.subplots()\n",
    "    #调节横坐标距离底部的长度\n",
    "    fig.subplots_adjust(bottom=0.2)\n",
    "    ax.xaxis_date()\n",
    "    ax.autoscale_view()\n",
    "    #3.绘图\n",
    "    #烛台图绘制\n",
    "\n",
    "    candlestick_ochl(ax, tuples, width=0.6, colorup='r', colordown=\"g\", alpha=0.8)\n",
    "    #调整图像设置横坐标标签的显示样式，获得当前坐标轴plt.gca、获得x轴刻度标签get_xticklabels、转换角度rotation、旋转角度hori...ent\n",
    "    plt.setp(plt.gca().get_xticklabels(), rotation=45, horizontalalignment='right')\n",
    "    plt.show()\n",
    "\n",
    "    \n",
    "plot_k_line('000001', 60)"
   ]
  },
  {
   "cell_type": "code",
   "execution_count": 6,
   "metadata": {},
   "outputs": [
    {
     "data": {
      "text/plain": [
       "DatetimeIndex(['2015-01-05', '2015-01-06', '2015-01-07', '2015-01-08',\n",
       "               '2015-01-09'],\n",
       "              dtype='datetime64[ns]', name='date', freq=None)"
      ]
     },
     "execution_count": 6,
     "metadata": {},
     "output_type": "execute_result"
    }
   ],
   "source": [
    "import numpy as np\n",
    "import pandas as pd\n",
    "from datetime import datetime\n",
    "import matplotlib.pylab as plt\n",
    "\n",
    "\n",
    "df = pd.read_csv('stocks/000001.csv', encoding='utf-8', index_col='date')\n",
    "df.index = pd.to_datetime(df.index)  # 将字符串索引转换成时间索引\n",
    "ts = df['close']  # 生成pd.Series对象\n",
    "# 查看数据格式\n",
    "ts.head()\n",
    "ts.head().index "
   ]
  },
  {
   "cell_type": "code",
   "execution_count": 9,
   "metadata": {},
   "outputs": [
    {
     "data": {
      "text/plain": [
       "date\n",
       "2016-04-01    8.623\n",
       "2016-04-05    8.655\n",
       "2016-04-06    8.672\n",
       "2016-04-07    8.566\n",
       "2016-04-08    8.550\n",
       "2016-04-11    8.672\n",
       "2016-04-12    8.631\n",
       "2016-04-13    8.744\n",
       "2016-04-14    8.769\n",
       "2016-04-15    8.801\n",
       "2016-04-18    8.680\n",
       "2016-04-19    8.712\n",
       "2016-04-20    8.510\n",
       "2016-04-21    8.502\n",
       "2016-04-22    8.534\n",
       "2016-04-25    8.494\n",
       "2016-04-26    8.566\n",
       "2016-04-27    8.550\n",
       "2016-04-28    8.623\n",
       "2016-04-29    8.550\n",
       "2016-05-03    8.639\n",
       "2016-05-04    8.672\n",
       "2016-05-05    8.672\n",
       "2016-05-06    8.510\n",
       "2016-05-09    8.372\n",
       "2016-05-10    8.316\n",
       "2016-05-11    8.388\n",
       "2016-05-12    8.397\n",
       "2016-05-13    8.372\n",
       "2016-05-16    8.380\n",
       "              ...  \n",
       "2017-04-17    8.967\n",
       "2017-04-18    8.918\n",
       "2017-04-19    8.780\n",
       "2017-04-20    8.790\n",
       "2017-04-21    8.839\n",
       "2017-04-24    8.800\n",
       "2017-04-25    8.869\n",
       "2017-04-26    8.859\n",
       "2017-04-27    8.839\n",
       "2017-04-28    8.859\n",
       "2017-05-02    8.810\n",
       "2017-05-03    8.780\n",
       "2017-05-04    8.612\n",
       "2017-05-05    8.504\n",
       "2017-05-08    8.445\n",
       "2017-05-09    8.514\n",
       "2017-05-10    8.543\n",
       "2017-05-11    8.573\n",
       "2017-05-12    8.770\n",
       "2017-05-15    8.731\n",
       "2017-05-16    8.711\n",
       "2017-05-17    8.642\n",
       "2017-05-18    8.603\n",
       "2017-05-19    8.563\n",
       "2017-05-22    8.553\n",
       "2017-05-23    8.662\n",
       "2017-05-24    8.681\n",
       "2017-05-25    8.967\n",
       "2017-05-26    8.967\n",
       "2017-05-31    9.066\n",
       "Name: close, Length: 282, dtype: float64"
      ]
     },
     "execution_count": 9,
     "metadata": {},
     "output_type": "execute_result"
    }
   ],
   "source": [
    "ts['2016-4':'2017-5']"
   ]
  },
  {
   "cell_type": "code",
   "execution_count": 37,
   "metadata": {},
   "outputs": [
    {
     "data": {
      "text/plain": [
       "date\n",
       "2015-01-05         NaN\n",
       "2015-01-06         NaN\n",
       "2015-01-07         NaN\n",
       "2015-01-08         NaN\n",
       "2015-01-09         NaN\n",
       "2015-01-12         NaN\n",
       "2015-01-13         NaN\n",
       "2015-01-14         NaN\n",
       "2015-01-15         NaN\n",
       "2015-01-16         NaN\n",
       "2015-01-19         NaN\n",
       "2015-01-20         NaN\n",
       "2015-01-21         NaN\n",
       "2015-01-22         NaN\n",
       "2015-01-23         NaN\n",
       "2015-01-26         NaN\n",
       "2015-01-27         NaN\n",
       "2015-01-28         NaN\n",
       "2015-01-29         NaN\n",
       "2015-01-30         NaN\n",
       "2015-02-02         NaN\n",
       "2015-02-03         NaN\n",
       "2015-02-04         NaN\n",
       "2015-02-05         NaN\n",
       "2015-02-06         NaN\n",
       "2015-02-09         NaN\n",
       "2015-02-10         NaN\n",
       "2015-02-11         NaN\n",
       "2015-02-12         NaN\n",
       "2015-02-13    0.474507\n",
       "                ...   \n",
       "2018-03-15    0.903542\n",
       "2018-03-16    0.879572\n",
       "2018-03-19    0.859180\n",
       "2018-03-20    0.838250\n",
       "2018-03-21    0.784539\n",
       "2018-03-22    0.726881\n",
       "2018-03-23    0.664018\n",
       "2018-03-26    0.535304\n",
       "2018-03-27    0.435367\n",
       "2018-03-28    0.438651\n",
       "2018-03-29    0.446985\n",
       "2018-03-30    0.478415\n",
       "2018-04-02    0.519180\n",
       "2018-04-03    0.563906\n",
       "2018-04-04    0.583078\n",
       "2018-04-09    0.577459\n",
       "2018-04-10    0.549457\n",
       "2018-04-11    0.516718\n",
       "2018-04-12    0.499771\n",
       "2018-04-13    0.491107\n",
       "2018-04-16    0.488260\n",
       "2018-04-17    0.484009\n",
       "2018-04-18    0.478869\n",
       "2018-04-19    0.464086\n",
       "2018-04-20    0.450467\n",
       "2018-04-23    0.432815\n",
       "2018-04-24    0.422307\n",
       "2018-04-25    0.409062\n",
       "2018-04-26    0.391647\n",
       "2018-04-27    0.388826\n",
       "Name: close, Length: 809, dtype: float64"
      ]
     },
     "execution_count": 37,
     "metadata": {},
     "output_type": "execute_result"
    }
   ],
   "source": [
    "ts.rolling(window=30,center=False).std()"
   ]
  },
  {
   "cell_type": "code",
   "execution_count": 34,
   "metadata": {},
   "outputs": [
    {
     "data": {
      "text/plain": [
       "date\n",
       "2018-03-15    11.71\n",
       "2018-03-16    11.64\n",
       "2018-03-19    11.83\n",
       "2018-03-20    11.82\n",
       "2018-03-21    11.90\n",
       "2018-03-22    11.66\n",
       "2018-03-23    11.34\n",
       "2018-03-26    10.93\n",
       "2018-03-27    10.94\n",
       "2018-03-28    10.89\n",
       "2018-03-29    11.05\n",
       "2018-03-30    10.90\n",
       "2018-04-02    10.71\n",
       "2018-04-03    10.56\n",
       "2018-04-04    10.87\n",
       "2018-04-09    11.02\n",
       "2018-04-10    11.42\n",
       "2018-04-11    11.83\n",
       "2018-04-12    11.52\n",
       "2018-04-13    11.57\n",
       "2018-04-16    11.10\n",
       "2018-04-17    11.21\n",
       "2018-04-18    11.50\n",
       "2018-04-19    11.47\n",
       "2018-04-20    11.35\n",
       "2018-04-23    11.57\n",
       "2018-04-24    11.86\n",
       "2018-04-25    11.68\n",
       "2018-04-26    11.42\n",
       "2018-04-27    10.85\n",
       "Name: close, dtype: float64"
      ]
     },
     "execution_count": 34,
     "metadata": {},
     "output_type": "execute_result"
    }
   ],
   "source": [
    "window = ts[-30:]"
   ]
  },
  {
   "cell_type": "code",
   "execution_count": 38,
   "metadata": {},
   "outputs": [],
   "source": [
    "ts = ts.values"
   ]
  },
  {
   "cell_type": "code",
   "execution_count": 39,
   "metadata": {},
   "outputs": [
    {
     "data": {
      "text/plain": [
       "array([10.708, 10.548, 10.347,  9.999, 10.08 ,  9.872,  9.812,  9.899,\n",
       "       10.26 , 10.273,  9.244,  9.244,  9.638,  9.558,  9.625,  9.585,\n",
       "        9.351,  9.398,  9.291,  9.311,  9.11 ,  9.324,  9.164,  9.217,\n",
       "        9.03 ,  9.037,  9.204,  9.177,  9.264,  9.324,  9.304,  9.351,\n",
       "        9.224,  9.405,  9.351,  9.378,  9.09 ,  9.07 ,  8.943,  8.983,\n",
       "        9.458,  9.204,  9.264,  9.759, 10.019, 10.3  , 10.294, 10.367,\n",
       "       10.153, 10.24 , 10.314, 10.26 ,  9.966, 10.1  , 10.08 , 10.467,\n",
       "       10.527, 10.668, 10.561, 10.594, 11.236, 11.978, 12.031, 13.234,\n",
       "       13.38 , 13.185, 13.468, 13.752, 13.695, 13.185, 13.396, 13.711,\n",
       "       13.477, 13.056, 13.282, 13.509, 13.468, 13.509, 13.363, 12.829,\n",
       "       12.716, 12.676, 12.821, 12.967, 12.91 , 12.846, 12.854, 12.498,\n",
       "       12.279, 12.611, 12.732, 12.773, 13.161, 13.428, 13.444, 13.331,\n",
       "       12.538, 12.393, 12.862, 12.757, 12.805, 13.242, 13.185, 13.986,\n",
       "       13.735, 13.493, 13.331, 13.355, 12.878, 12.651, 12.724, 12.441,\n",
       "       11.834, 12.093, 12.231, 12.029, 11.139, 10.969, 11.762, 11.26 ,\n",
       "       11.123, 10.573, 11.228, 11.851, 10.67 , 11.535, 12.021, 11.681,\n",
       "       11.22 , 10.985, 11.001, 11.179, 11.001, 10.977, 10.937, 11.058,\n",
       "       10.823, 10.063, 10.209, 10.192,  9.917,  9.998, 10.37 , 10.403,\n",
       "       10.184, 10.136, 10.2  , 10.451, 10.387, 10.168, 10.168, 10.225,\n",
       "       10.144,  9.925,  9.893,  9.747,  9.303,  8.372,  7.652,  8.016,\n",
       "        8.736,  8.761,  8.955,  9.359,  9.578,  8.809,  8.898,  8.979,\n",
       "        8.939,  8.866,  8.793,  8.55 ,  8.817,  8.712,  8.744,  8.753,\n",
       "        8.866,  8.655,  8.664,  8.534,  8.518,  8.397,  8.486,  8.655,\n",
       "        8.817,  9.084,  9.003,  8.882,  9.036,  9.084,  9.108,  9.157,\n",
       "        9.076,  9.165,  9.278,  9.319,  9.286,  9.117,  9.117,  9.189,\n",
       "        9.011,  8.939,  9.456,  9.764, 10.023, 10.467, 10.314, 10.152,\n",
       "       10.031,  9.901,  9.982, 10.111, 10.047, 10.111, 10.152, 10.071,\n",
       "        9.934,  9.966,  9.893,  9.489,  9.497,  9.505, 10.12 , 10.071,\n",
       "        9.804,  9.828,  9.675,  9.699,  9.675,  9.57 ,  9.764,  9.642,\n",
       "        9.618,  9.764,  9.893, 10.12 , 10.055, 10.095,  9.982, 10.039,\n",
       "        9.691,  9.78 ,  9.788,  9.699,  9.141,  9.222,  9.327,  8.85 ,\n",
       "        8.995,  8.704,  8.744,  8.664,  8.712,  8.461,  8.421,  8.664,\n",
       "        8.526,  8.348,  8.413,  8.388,  7.984,  7.992,  7.838,  8.089,\n",
       "        7.927,  8.049,  7.968,  8.049,  8.024,  7.919,  8.097,  8.211,\n",
       "        8.162,  8.122,  8.324,  8.186,  8.211,  7.822,  7.919,  7.733,\n",
       "        7.847,  8.17 ,  8.178,  8.413,  8.364,  8.316,  8.227,  8.211,\n",
       "        8.219,  8.3  ,  8.348,  8.372,  8.429,  8.526,  8.736,  8.672,\n",
       "        8.655,  8.51 ,  8.566,  8.477,  8.437,  8.655,  8.607,  8.623,\n",
       "        8.655,  8.672,  8.566,  8.55 ,  8.672,  8.631,  8.744,  8.769,\n",
       "        8.801,  8.68 ,  8.712,  8.51 ,  8.502,  8.534,  8.494,  8.566,\n",
       "        8.55 ,  8.623,  8.55 ,  8.639,  8.672,  8.672,  8.51 ,  8.372,\n",
       "        8.316,  8.388,  8.397,  8.372,  8.38 ,  8.332,  8.332,  8.291,\n",
       "        8.332,  8.316,  8.259,  8.275,  8.267,  8.308,  8.316,  8.534,\n",
       "        8.477,  8.461,  8.494,  8.502,  8.51 ,  8.494,  8.356,  8.413,\n",
       "        8.445,  8.445,  8.455,  8.474,  8.484,  8.603,  8.534,  8.445,\n",
       "        8.484,  8.504,  8.563,  8.573,  8.583,  8.681,  8.681,  8.662,\n",
       "        8.652,  8.612,  8.622,  8.75 ,  8.859,  8.81 ,  8.859,  8.908,\n",
       "        8.839,  8.829,  8.859,  8.81 ,  8.849,  8.977,  8.879,  8.947,\n",
       "        9.066,  9.145,  9.115,  9.046,  8.859,  8.908,  8.977,  9.016,\n",
       "        9.007,  9.085,  9.361,  9.539,  9.381,  9.411,  9.361,  9.371,\n",
       "        9.263,  9.263,  9.292,  9.302,  9.312,  9.283,  9.332,  9.351,\n",
       "        9.312,  9.312,  9.283,  9.273,  9.263,  9.263,  9.243,  9.026,\n",
       "        9.056,  8.928,  8.987,  8.947,  8.947,  9.026,  9.016,  8.908,\n",
       "        8.928,  8.918,  8.928,  8.938,  8.987,  9.016,  8.997,  8.938,\n",
       "        8.957,  8.918,  8.957,  8.947,  8.938,  8.997,  9.105,  9.076,\n",
       "        9.016,  9.026,  9.036,  9.016,  9.007,  8.938,  8.997,  8.977,\n",
       "        8.987,  9.016,  8.938,  9.007,  9.046,  9.085,  9.095,  9.095,\n",
       "        9.076,  9.046,  9.105,  9.223,  9.312,  9.332,  9.48 ,  9.489,\n",
       "        9.48 ,  9.411,  9.46 ,  9.411,  9.322,  9.351,  9.342,  9.381,\n",
       "        9.509,  9.361,  9.283,  9.263,  9.115,  9.115,  9.066,  8.977,\n",
       "        9.026,  9.007,  8.947,  8.987,  8.947,  8.928,  8.947,  8.967,\n",
       "        9.026,  9.026,  9.036,  8.997,  9.016,  9.016,  9.007,  9.016,\n",
       "        9.026,  9.007,  9.016,  9.036,  9.046,  9.085,  9.085,  9.135,\n",
       "        9.125,  9.194,  9.125,  9.174,  9.164,  9.164,  9.174,  9.194,\n",
       "        9.273,  9.263,  9.312,  9.322,  9.253,  9.42 ,  9.43 ,  9.43 ,\n",
       "        9.371,  9.361,  9.292,  9.342,  9.351,  9.292,  9.263,  9.312,\n",
       "        9.312,  9.283,  9.243,  9.263,  9.302,  9.302,  9.342,  9.381,\n",
       "        9.174,  9.115,  9.105,  9.026,  9.066,  9.056,  9.007,  8.987,\n",
       "        8.977,  8.947,  9.036,  9.076,  9.066,  9.066,  9.046,  9.016,\n",
       "        8.987,  8.987,  8.947,  8.967,  8.918,  8.78 ,  8.79 ,  8.839,\n",
       "        8.8  ,  8.869,  8.859,  8.839,  8.859,  8.81 ,  8.78 ,  8.612,\n",
       "        8.504,  8.445,  8.514,  8.543,  8.573,  8.77 ,  8.731,  8.711,\n",
       "        8.642,  8.603,  8.563,  8.553,  8.662,  8.681,  8.967,  8.967,\n",
       "        9.066,  9.056,  9.036,  8.898,  8.908,  8.997,  8.997,  9.016,\n",
       "        8.977,  8.987,  8.947,  8.908,  8.888,  8.997,  8.987,  9.016,\n",
       "        9.115,  9.115,  9.164,  9.223,  9.292,  9.292,  9.253,  9.263,\n",
       "        9.204,  9.233,  9.263,  9.332,  9.45 , 10.1  , 10.189, 10.741,\n",
       "       10.741, 10.652, 10.889, 10.928, 10.81 , 10.89 , 10.95 , 11.   ,\n",
       "       10.74 , 10.59 , 10.74 , 10.67 , 11.04 , 11.15 , 11.01 , 11.17 ,\n",
       "       11.   , 11.05 , 10.73 , 10.62 , 10.02 , 10.22 , 10.31 , 10.34 ,\n",
       "       10.42 , 10.44 , 10.46 , 10.65 , 10.9  , 10.93 , 11.11 , 11.35 ,\n",
       "       11.67 , 11.43 , 11.28 , 11.21 , 11.72 , 11.64 , 11.7  , 11.44 ,\n",
       "       11.49 , 11.38 , 11.54 , 11.43 , 11.32 , 11.29 , 11.25 , 11.13 ,\n",
       "       11.29 , 11.46 , 11.44 , 11.29 , 11.05 , 10.93 , 10.88 , 11.11 ,\n",
       "       11.3  , 11.47 , 11.53 , 11.55 , 11.36 , 11.59 , 11.51 , 11.69 ,\n",
       "       11.63 , 11.48 , 11.19 , 11.39 , 11.27 , 11.18 , 11.56 , 11.56 ,\n",
       "       11.54 , 11.4  , 11.54 , 11.39 , 11.28 , 11.92 , 12.13 , 12.33 ,\n",
       "       12.3  , 12.9  , 12.95 , 12.9  , 13.1  , 13.18 , 14.25 , 14.45 ,\n",
       "       15.1  , 14.35 , 14.56 , 13.93 , 13.7  , 13.82 , 13.38 , 13.   ,\n",
       "       13.3  , 13.3  , 13.08 , 12.83 , 13.09 , 13.5  , 13.02 , 13.13 ,\n",
       "       13.   , 12.72 , 12.75 , 13.28 , 13.26 , 13.54 , 13.52 , 13.25 ,\n",
       "       13.66 , 13.29 , 13.21 , 13.3  , 13.7  , 13.33 , 13.25 , 13.3  ,\n",
       "       12.96 , 13.08 , 13.47 , 13.4  , 13.55 , 14.2  , 14.2  , 14.23 ,\n",
       "       14.72 , 14.8  , 14.44 , 14.65 , 14.64 , 14.2  , 14.05 , 13.74 ,\n",
       "       13.65 , 14.05 , 14.03 , 14.05 , 14.55 , 14.   , 12.92 , 12.54 ,\n",
       "       11.69 , 11.72 , 11.94 , 12.   , 12.46 , 12.61 , 12.63 , 12.28 ,\n",
       "       12.05 , 12.04 , 11.95 , 11.86 , 12.1  , 12.05 , 12.11 , 12.09 ,\n",
       "       12.03 , 12.02 , 11.92 , 11.71 , 11.64 , 11.83 , 11.82 , 11.9  ,\n",
       "       11.66 , 11.34 , 10.93 , 10.94 , 10.89 , 11.05 , 10.9  , 10.71 ,\n",
       "       10.56 , 10.87 , 11.02 , 11.42 , 11.83 , 11.52 , 11.57 , 11.1  ,\n",
       "       11.21 , 11.5  , 11.47 , 11.35 , 11.57 , 11.86 , 11.68 , 11.42 ,\n",
       "       10.85 ])"
      ]
     },
     "execution_count": 39,
     "metadata": {},
     "output_type": "execute_result"
    }
   ],
   "source": [
    "ts\n"
   ]
  },
  {
   "cell_type": "code",
   "execution_count": 40,
   "metadata": {},
   "outputs": [
    {
     "data": {
      "text/plain": [
       "numpy.ndarray"
      ]
     },
     "execution_count": 40,
     "metadata": {},
     "output_type": "execute_result"
    }
   ],
   "source": [
    "type(ts)"
   ]
  },
  {
   "cell_type": "code",
   "execution_count": 44,
   "metadata": {},
   "outputs": [
    {
     "data": {
      "text/plain": [
       "array([11.71, 11.64, 11.83, 11.82, 11.9 , 11.66, 11.34, 10.93, 10.94,\n",
       "       10.89, 11.05, 10.9 , 10.71, 10.56, 10.87, 11.02, 11.42, 11.83,\n",
       "       11.52, 11.57, 11.1 , 11.21, 11.5 , 11.47, 11.35, 11.57, 11.86,\n",
       "       11.68, 11.42, 10.85])"
      ]
     },
     "execution_count": 44,
     "metadata": {},
     "output_type": "execute_result"
    }
   ],
   "source": [
    "df['close'].values[-30:]"
   ]
  },
  {
   "cell_type": "code",
   "execution_count": 53,
   "metadata": {},
   "outputs": [],
   "source": [
    "import numpy as np\n",
    "import pandas as pd\n",
    "from datetime import datetime\n",
    "import matplotlib.pylab as plt\n",
    "\n",
    "\n",
    "df = pd.read_csv('stocks/000001.csv', encoding='utf-8', index_col='date')\n",
    "df.index = pd.to_datetime(df.index)  # 将字符串索引转换成时间索引\n",
    "array = df['close'].values\n",
    "window = array[-30:]\n",
    "\n",
    "\n",
    "norms = []\n",
    "for index in range(0, len(array) - 60):\n",
    "    norm = np.linalg.norm(array[index:index + 30] - window)\n",
    "    norms.append(norm)"
   ]
  },
  {
   "cell_type": "code",
   "execution_count": 104,
   "metadata": {},
   "outputs": [],
   "source": [
    "import tushare as ts\n",
    "from matplotlib.dates import date2num\n",
    "\n",
    "data_list = []\n",
    "index_of_min = norms.index(min(norms))\n",
    "start_date = str(df.index[index_of_min])\n",
    "end_date = str(df.index[index_of_min + 60])\n",
    "t = int(date2num(datetime.now()))\n",
    "hist_data = ts.get_hist_data('000001', start=start_date, end=end_date)\n",
    "\n",
    "for dates, row in hist_data.iterrows():\n",
    "    date_time = datetime.strptime(dates,'%Y-%m-%d')\n",
    "    t -= 1\n",
    "    open,high,close,low = row[:4] # unpacking\n",
    "    datas = (t,open,high,low,close)\n",
    "    data_list.append(datas)"
   ]
  },
  {
   "cell_type": "code",
   "execution_count": 106,
   "metadata": {},
   "outputs": [
    {
     "data": {
      "text/plain": [
       "'2017-09-08 00:00:00'"
      ]
     },
     "execution_count": 106,
     "metadata": {},
     "output_type": "execute_result"
    }
   ],
   "source": [
    "start_date"
   ]
  },
  {
   "cell_type": "code",
   "execution_count": null,
   "metadata": {},
   "outputs": [],
   "source": []
  }
 ],
 "metadata": {
  "kernelspec": {
   "display_name": "Python 3",
   "language": "python",
   "name": "python3"
  },
  "language_info": {
   "codemirror_mode": {
    "name": "ipython",
    "version": 3
   },
   "file_extension": ".py",
   "mimetype": "text/x-python",
   "name": "python",
   "nbconvert_exporter": "python",
   "pygments_lexer": "ipython3",
   "version": "3.6.4"
  }
 },
 "nbformat": 4,
 "nbformat_minor": 2
}
